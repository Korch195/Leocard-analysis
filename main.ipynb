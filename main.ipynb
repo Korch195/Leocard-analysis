{
 "cells": [
  {
   "cell_type": "code",
   "execution_count": 2,
   "id": "7b0ca61c",
   "metadata": {},
   "outputs": [
    {
     "name": "stdout",
     "output_type": "stream",
     "text": [
      "Vehicle 1182 has been stationary for 0 days 00:35:00 since 2025-04-03 05:57:00 and until 2025-04-03 06:32:00\n",
      "[118, 661]\n"
     ]
    }
   ],
   "source": [
    "from functionset import *\n",
    "import warnings\n",
    "warnings.filterwarnings(\"ignore\")\n",
    "\n",
    "leocard_to_passenger_demand(\"ТРАМВАЙ 6Т\", leocard_filename=\"leocard.csv\", microgiz_filename=\"microgiz.xlsx\")"
   ]
  }
 ],
 "metadata": {
  "kernelspec": {
   "display_name": "Python 3",
   "language": "python",
   "name": "python3"
  },
  "language_info": {
   "codemirror_mode": {
    "name": "ipython",
    "version": 3
   },
   "file_extension": ".py",
   "mimetype": "text/x-python",
   "name": "python",
   "nbconvert_exporter": "python",
   "pygments_lexer": "ipython3",
   "version": "3.12.1"
  }
 },
 "nbformat": 4,
 "nbformat_minor": 5
}
